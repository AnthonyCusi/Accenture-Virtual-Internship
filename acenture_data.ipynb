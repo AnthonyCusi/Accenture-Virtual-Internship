{
 "cells": [
  {
   "cell_type": "markdown",
   "metadata": {},
   "source": [
    "## Import Libraries"
   ]
  },
  {
   "cell_type": "code",
   "execution_count": 33,
   "metadata": {},
   "outputs": [],
   "source": [
    "import pandas as pd\n",
    "import matplotlib.pyplot as plt\n",
    "import numpy as np"
   ]
  },
  {
   "cell_type": "markdown",
   "metadata": {},
   "source": [
    "## Load Data"
   ]
  },
  {
   "cell_type": "code",
   "execution_count": 34,
   "metadata": {},
   "outputs": [],
   "source": [
    "content = pd.read_csv('Content.csv')\n",
    "location = pd.read_csv('Location.csv')\n",
    "profile = pd.read_csv('Profile.csv')\n",
    "reactions = pd.read_csv('Reactions.csv')\n",
    "reaction_types = pd.read_csv('ReactionTypes.csv')\n",
    "session = pd.read_csv('Session.csv')\n",
    "user = pd.read_csv('User.csv')"
   ]
  },
  {
   "cell_type": "markdown",
   "metadata": {},
   "source": [
    "## Exploring Data"
   ]
  },
  {
   "cell_type": "code",
   "execution_count": 35,
   "metadata": {},
   "outputs": [
    {
     "data": {
      "text/plain": [
       "array(['disgust', 'dislike', 'scared', 'interested', 'peeking', 'cherish',\n",
       "       'hate', 'indifferent', 'super love', 'worried', 'like', 'heart',\n",
       "       'want', 'intrigued', 'love', 'adore'], dtype=object)"
      ]
     },
     "execution_count": 35,
     "metadata": {},
     "output_type": "execute_result"
    }
   ],
   "source": [
    "reactions = reactions.dropna()\n",
    "reactions = reactions.drop('Unnamed: 0', axis = 1)\n",
    "reactions['Type'].unique()\n"
   ]
  },
  {
   "cell_type": "code",
   "execution_count": 36,
   "metadata": {},
   "outputs": [
    {
     "data": {
      "text/html": [
       "<div>\n",
       "<style scoped>\n",
       "    .dataframe tbody tr th:only-of-type {\n",
       "        vertical-align: middle;\n",
       "    }\n",
       "\n",
       "    .dataframe tbody tr th {\n",
       "        vertical-align: top;\n",
       "    }\n",
       "\n",
       "    .dataframe thead th {\n",
       "        text-align: right;\n",
       "    }\n",
       "</style>\n",
       "<table border=\"1\" class=\"dataframe\">\n",
       "  <thead>\n",
       "    <tr style=\"text-align: right;\">\n",
       "      <th></th>\n",
       "      <th>Type</th>\n",
       "      <th>Sentiment</th>\n",
       "      <th>Score</th>\n",
       "    </tr>\n",
       "  </thead>\n",
       "  <tbody>\n",
       "    <tr>\n",
       "      <th>0</th>\n",
       "      <td>heart</td>\n",
       "      <td>positive</td>\n",
       "      <td>60</td>\n",
       "    </tr>\n",
       "    <tr>\n",
       "      <th>1</th>\n",
       "      <td>want</td>\n",
       "      <td>positive</td>\n",
       "      <td>70</td>\n",
       "    </tr>\n",
       "    <tr>\n",
       "      <th>2</th>\n",
       "      <td>disgust</td>\n",
       "      <td>negative</td>\n",
       "      <td>0</td>\n",
       "    </tr>\n",
       "    <tr>\n",
       "      <th>3</th>\n",
       "      <td>hate</td>\n",
       "      <td>negative</td>\n",
       "      <td>5</td>\n",
       "    </tr>\n",
       "    <tr>\n",
       "      <th>4</th>\n",
       "      <td>interested</td>\n",
       "      <td>positive</td>\n",
       "      <td>30</td>\n",
       "    </tr>\n",
       "    <tr>\n",
       "      <th>5</th>\n",
       "      <td>indifferent</td>\n",
       "      <td>neutral</td>\n",
       "      <td>20</td>\n",
       "    </tr>\n",
       "    <tr>\n",
       "      <th>6</th>\n",
       "      <td>love</td>\n",
       "      <td>positive</td>\n",
       "      <td>65</td>\n",
       "    </tr>\n",
       "    <tr>\n",
       "      <th>7</th>\n",
       "      <td>super love</td>\n",
       "      <td>positive</td>\n",
       "      <td>75</td>\n",
       "    </tr>\n",
       "    <tr>\n",
       "      <th>8</th>\n",
       "      <td>cherish</td>\n",
       "      <td>positive</td>\n",
       "      <td>70</td>\n",
       "    </tr>\n",
       "    <tr>\n",
       "      <th>9</th>\n",
       "      <td>adore</td>\n",
       "      <td>positive</td>\n",
       "      <td>72</td>\n",
       "    </tr>\n",
       "    <tr>\n",
       "      <th>10</th>\n",
       "      <td>like</td>\n",
       "      <td>positive</td>\n",
       "      <td>50</td>\n",
       "    </tr>\n",
       "    <tr>\n",
       "      <th>11</th>\n",
       "      <td>dislike</td>\n",
       "      <td>negative</td>\n",
       "      <td>10</td>\n",
       "    </tr>\n",
       "    <tr>\n",
       "      <th>12</th>\n",
       "      <td>intrigued</td>\n",
       "      <td>positive</td>\n",
       "      <td>45</td>\n",
       "    </tr>\n",
       "    <tr>\n",
       "      <th>13</th>\n",
       "      <td>peeking</td>\n",
       "      <td>neutral</td>\n",
       "      <td>35</td>\n",
       "    </tr>\n",
       "    <tr>\n",
       "      <th>14</th>\n",
       "      <td>scared</td>\n",
       "      <td>negative</td>\n",
       "      <td>15</td>\n",
       "    </tr>\n",
       "    <tr>\n",
       "      <th>15</th>\n",
       "      <td>worried</td>\n",
       "      <td>negative</td>\n",
       "      <td>12</td>\n",
       "    </tr>\n",
       "  </tbody>\n",
       "</table>\n",
       "</div>"
      ],
      "text/plain": [
       "           Type Sentiment  Score\n",
       "0         heart  positive     60\n",
       "1          want  positive     70\n",
       "2       disgust  negative      0\n",
       "3          hate  negative      5\n",
       "4    interested  positive     30\n",
       "5   indifferent   neutral     20\n",
       "6          love  positive     65\n",
       "7    super love  positive     75\n",
       "8       cherish  positive     70\n",
       "9         adore  positive     72\n",
       "10         like  positive     50\n",
       "11      dislike  negative     10\n",
       "12    intrigued  positive     45\n",
       "13      peeking   neutral     35\n",
       "14       scared  negative     15\n",
       "15      worried  negative     12"
      ]
     },
     "execution_count": 36,
     "metadata": {},
     "output_type": "execute_result"
    }
   ],
   "source": [
    "reaction_types = reaction_types.dropna()\n",
    "reaction_types = reaction_types.drop('Unnamed: 0', axis = 1)\n",
    "reaction_types"
   ]
  },
  {
   "cell_type": "code",
   "execution_count": 37,
   "metadata": {},
   "outputs": [
    {
     "data": {
      "text/plain": [
       "array(['Studying', 'healthy eating', 'technology', 'food', 'cooking',\n",
       "       'dogs', 'soccer', 'public speaking', 'science', 'tennis', 'travel',\n",
       "       'fitness', 'education', 'studying', 'veganism', 'Animals',\n",
       "       'animals', 'culture', '\"culture\"', 'Fitness', '\"studying\"',\n",
       "       'Veganism', '\"animals\"', 'Travel', '\"soccer\"', 'Education',\n",
       "       '\"dogs\"', 'Technology', 'Soccer', '\"tennis\"', 'Culture', '\"food\"',\n",
       "       'Food', '\"technology\"', 'Healthy Eating', '\"cooking\"', 'Science',\n",
       "       '\"public speaking\"', '\"veganism\"', 'Public Speaking', '\"science\"'],\n",
       "      dtype=object)"
      ]
     },
     "execution_count": 37,
     "metadata": {},
     "output_type": "execute_result"
    }
   ],
   "source": [
    "content = content[['Content ID', 'Type', 'Category']]\n",
    "content = content.dropna()\n",
    "content.rename(columns = {'Type': 'Content Type'}, inplace = True)\n",
    "content['Category'].unique()"
   ]
  },
  {
   "cell_type": "markdown",
   "metadata": {},
   "source": [
    "## Cleaning Data"
   ]
  },
  {
   "cell_type": "code",
   "execution_count": 38,
   "metadata": {},
   "outputs": [
    {
     "data": {
      "text/plain": [
       "array(['Studying', 'Healthy Eating', 'Technology', 'Food', 'Cooking',\n",
       "       'Dogs', 'Soccer', 'Public Speaking', 'Science', 'Tennis', 'Travel',\n",
       "       'Fitness', 'Education', 'Veganism', 'Animals', 'Culture'],\n",
       "      dtype=object)"
      ]
     },
     "execution_count": 38,
     "metadata": {},
     "output_type": "execute_result"
    }
   ],
   "source": [
    "content['Category'].replace(['studying', '\"studying\"', 'healthy eating', 'technology', '\"technology\"', 'food', 'cooking', 'dogs', 'soccer', 'public speaking', 'science', 'tennis', 'travel', 'fitness', 'education', 'veganism', 'animals', 'culture', '\"culture\"', '\"tennis\"', '\"food\"', '\"cooking\"', '\"public speaking\"', '\"veganism\"', '\"science\"', '\"animals\"', '\"soccer\"', '\"dogs\"'], \n",
    "    ['Studying', 'Studying', 'Healthy Eating', 'Technology', 'Technology', 'Food', 'Cooking', 'Dogs', 'Soccer', 'Public Speaking', 'Science', 'Tennis', 'Travel', 'Fitness', 'Education', 'Veganism', 'Animals', 'Culture', 'Culture', 'Tennis', 'Food', 'Cooking', 'Public Speaking', 'Veganism', 'Science', 'Animals', 'Soccer', 'Dogs'], inplace = True)\n",
    "\n",
    "content['Category'].unique()"
   ]
  },
  {
   "cell_type": "markdown",
   "metadata": {},
   "source": [
    "## Merging Data"
   ]
  },
  {
   "cell_type": "code",
   "execution_count": 39,
   "metadata": {},
   "outputs": [
    {
     "data": {
      "text/html": [
       "<div>\n",
       "<style scoped>\n",
       "    .dataframe tbody tr th:only-of-type {\n",
       "        vertical-align: middle;\n",
       "    }\n",
       "\n",
       "    .dataframe tbody tr th {\n",
       "        vertical-align: top;\n",
       "    }\n",
       "\n",
       "    .dataframe thead th {\n",
       "        text-align: right;\n",
       "    }\n",
       "</style>\n",
       "<table border=\"1\" class=\"dataframe\">\n",
       "  <thead>\n",
       "    <tr style=\"text-align: right;\">\n",
       "      <th></th>\n",
       "      <th>Content ID</th>\n",
       "      <th>User ID</th>\n",
       "      <th>Type</th>\n",
       "      <th>Datetime</th>\n",
       "      <th>Sentiment</th>\n",
       "      <th>Score</th>\n",
       "    </tr>\n",
       "  </thead>\n",
       "  <tbody>\n",
       "    <tr>\n",
       "      <th>0</th>\n",
       "      <td>97522e57-d9ab-4bd6-97bf-c24d952602d2</td>\n",
       "      <td>5d454588-283d-459d-915d-c48a2cb4c27f</td>\n",
       "      <td>disgust</td>\n",
       "      <td>2020-11-07 09:43:50</td>\n",
       "      <td>negative</td>\n",
       "      <td>0</td>\n",
       "    </tr>\n",
       "    <tr>\n",
       "      <th>1</th>\n",
       "      <td>97522e57-d9ab-4bd6-97bf-c24d952602d2</td>\n",
       "      <td>92b87fa5-f271-43e0-af66-84fac21052e6</td>\n",
       "      <td>dislike</td>\n",
       "      <td>2021-06-17 12:22:51</td>\n",
       "      <td>negative</td>\n",
       "      <td>10</td>\n",
       "    </tr>\n",
       "    <tr>\n",
       "      <th>2</th>\n",
       "      <td>97522e57-d9ab-4bd6-97bf-c24d952602d2</td>\n",
       "      <td>163daa38-8b77-48c9-9af6-37a6c1447ac2</td>\n",
       "      <td>scared</td>\n",
       "      <td>2021-04-18 05:13:58</td>\n",
       "      <td>negative</td>\n",
       "      <td>15</td>\n",
       "    </tr>\n",
       "    <tr>\n",
       "      <th>3</th>\n",
       "      <td>97522e57-d9ab-4bd6-97bf-c24d952602d2</td>\n",
       "      <td>34e8add9-0206-47fd-a501-037b994650a2</td>\n",
       "      <td>disgust</td>\n",
       "      <td>2021-01-06 19:13:01</td>\n",
       "      <td>negative</td>\n",
       "      <td>0</td>\n",
       "    </tr>\n",
       "    <tr>\n",
       "      <th>4</th>\n",
       "      <td>97522e57-d9ab-4bd6-97bf-c24d952602d2</td>\n",
       "      <td>9b6d35f9-5e15-4cd0-a8d7-b1f3340e02c4</td>\n",
       "      <td>interested</td>\n",
       "      <td>2020-08-23 12:25:58</td>\n",
       "      <td>positive</td>\n",
       "      <td>30</td>\n",
       "    </tr>\n",
       "    <tr>\n",
       "      <th>...</th>\n",
       "      <td>...</td>\n",
       "      <td>...</td>\n",
       "      <td>...</td>\n",
       "      <td>...</td>\n",
       "      <td>...</td>\n",
       "      <td>...</td>\n",
       "    </tr>\n",
       "    <tr>\n",
       "      <th>22529</th>\n",
       "      <td>75d6b589-7fae-4a6d-b0d0-752845150e56</td>\n",
       "      <td>b6d04982-1509-41ab-a700-b390d6cb4d02</td>\n",
       "      <td>worried</td>\n",
       "      <td>2020-10-31 04:50:14</td>\n",
       "      <td>negative</td>\n",
       "      <td>12</td>\n",
       "    </tr>\n",
       "    <tr>\n",
       "      <th>22530</th>\n",
       "      <td>75d6b589-7fae-4a6d-b0d0-752845150e56</td>\n",
       "      <td>80c9ce48-46f9-4f5e-b3ca-3b698fc2e949</td>\n",
       "      <td>dislike</td>\n",
       "      <td>2020-06-27 09:46:48</td>\n",
       "      <td>negative</td>\n",
       "      <td>10</td>\n",
       "    </tr>\n",
       "    <tr>\n",
       "      <th>22531</th>\n",
       "      <td>75d6b589-7fae-4a6d-b0d0-752845150e56</td>\n",
       "      <td>2bd9c167-e06c-47c1-a978-3403d6724606</td>\n",
       "      <td>intrigued</td>\n",
       "      <td>2021-02-16 17:17:02</td>\n",
       "      <td>positive</td>\n",
       "      <td>45</td>\n",
       "    </tr>\n",
       "    <tr>\n",
       "      <th>22532</th>\n",
       "      <td>75d6b589-7fae-4a6d-b0d0-752845150e56</td>\n",
       "      <td>5ffd8b51-164e-47e2-885e-8b8c46eb63ed</td>\n",
       "      <td>worried</td>\n",
       "      <td>2020-11-04 20:08:31</td>\n",
       "      <td>negative</td>\n",
       "      <td>12</td>\n",
       "    </tr>\n",
       "    <tr>\n",
       "      <th>22533</th>\n",
       "      <td>75d6b589-7fae-4a6d-b0d0-752845150e56</td>\n",
       "      <td>4edc3d1a-a7d9-4db6-89c3-f784d9954172</td>\n",
       "      <td>cherish</td>\n",
       "      <td>2021-01-04 04:55:11</td>\n",
       "      <td>positive</td>\n",
       "      <td>70</td>\n",
       "    </tr>\n",
       "  </tbody>\n",
       "</table>\n",
       "<p>22534 rows × 6 columns</p>\n",
       "</div>"
      ],
      "text/plain": [
       "                                 Content ID  \\\n",
       "0      97522e57-d9ab-4bd6-97bf-c24d952602d2   \n",
       "1      97522e57-d9ab-4bd6-97bf-c24d952602d2   \n",
       "2      97522e57-d9ab-4bd6-97bf-c24d952602d2   \n",
       "3      97522e57-d9ab-4bd6-97bf-c24d952602d2   \n",
       "4      97522e57-d9ab-4bd6-97bf-c24d952602d2   \n",
       "...                                     ...   \n",
       "22529  75d6b589-7fae-4a6d-b0d0-752845150e56   \n",
       "22530  75d6b589-7fae-4a6d-b0d0-752845150e56   \n",
       "22531  75d6b589-7fae-4a6d-b0d0-752845150e56   \n",
       "22532  75d6b589-7fae-4a6d-b0d0-752845150e56   \n",
       "22533  75d6b589-7fae-4a6d-b0d0-752845150e56   \n",
       "\n",
       "                                    User ID        Type             Datetime  \\\n",
       "0      5d454588-283d-459d-915d-c48a2cb4c27f     disgust  2020-11-07 09:43:50   \n",
       "1      92b87fa5-f271-43e0-af66-84fac21052e6     dislike  2021-06-17 12:22:51   \n",
       "2      163daa38-8b77-48c9-9af6-37a6c1447ac2      scared  2021-04-18 05:13:58   \n",
       "3      34e8add9-0206-47fd-a501-037b994650a2     disgust  2021-01-06 19:13:01   \n",
       "4      9b6d35f9-5e15-4cd0-a8d7-b1f3340e02c4  interested  2020-08-23 12:25:58   \n",
       "...                                     ...         ...                  ...   \n",
       "22529  b6d04982-1509-41ab-a700-b390d6cb4d02     worried  2020-10-31 04:50:14   \n",
       "22530  80c9ce48-46f9-4f5e-b3ca-3b698fc2e949     dislike  2020-06-27 09:46:48   \n",
       "22531  2bd9c167-e06c-47c1-a978-3403d6724606   intrigued  2021-02-16 17:17:02   \n",
       "22532  5ffd8b51-164e-47e2-885e-8b8c46eb63ed     worried  2020-11-04 20:08:31   \n",
       "22533  4edc3d1a-a7d9-4db6-89c3-f784d9954172     cherish  2021-01-04 04:55:11   \n",
       "\n",
       "      Sentiment  Score  \n",
       "0      negative      0  \n",
       "1      negative     10  \n",
       "2      negative     15  \n",
       "3      negative      0  \n",
       "4      positive     30  \n",
       "...         ...    ...  \n",
       "22529  negative     12  \n",
       "22530  negative     10  \n",
       "22531  positive     45  \n",
       "22532  negative     12  \n",
       "22533  positive     70  \n",
       "\n",
       "[22534 rows x 6 columns]"
      ]
     },
     "execution_count": 39,
     "metadata": {},
     "output_type": "execute_result"
    }
   ],
   "source": [
    "reactions_with_scoring = reactions.merge(reaction_types, how = 'left')\n",
    "reactions_with_scoring"
   ]
  },
  {
   "cell_type": "code",
   "execution_count": 40,
   "metadata": {},
   "outputs": [
    {
     "data": {
      "text/html": [
       "<div>\n",
       "<style scoped>\n",
       "    .dataframe tbody tr th:only-of-type {\n",
       "        vertical-align: middle;\n",
       "    }\n",
       "\n",
       "    .dataframe tbody tr th {\n",
       "        vertical-align: top;\n",
       "    }\n",
       "\n",
       "    .dataframe thead th {\n",
       "        text-align: right;\n",
       "    }\n",
       "</style>\n",
       "<table border=\"1\" class=\"dataframe\">\n",
       "  <thead>\n",
       "    <tr style=\"text-align: right;\">\n",
       "      <th></th>\n",
       "      <th>Content ID</th>\n",
       "      <th>User ID</th>\n",
       "      <th>Type</th>\n",
       "      <th>Datetime</th>\n",
       "      <th>Sentiment</th>\n",
       "      <th>Score</th>\n",
       "      <th>Content Type</th>\n",
       "      <th>Category</th>\n",
       "    </tr>\n",
       "  </thead>\n",
       "  <tbody>\n",
       "    <tr>\n",
       "      <th>0</th>\n",
       "      <td>97522e57-d9ab-4bd6-97bf-c24d952602d2</td>\n",
       "      <td>5d454588-283d-459d-915d-c48a2cb4c27f</td>\n",
       "      <td>disgust</td>\n",
       "      <td>2020-11-07 09:43:50</td>\n",
       "      <td>negative</td>\n",
       "      <td>0</td>\n",
       "      <td>photo</td>\n",
       "      <td>Studying</td>\n",
       "    </tr>\n",
       "    <tr>\n",
       "      <th>1</th>\n",
       "      <td>97522e57-d9ab-4bd6-97bf-c24d952602d2</td>\n",
       "      <td>92b87fa5-f271-43e0-af66-84fac21052e6</td>\n",
       "      <td>dislike</td>\n",
       "      <td>2021-06-17 12:22:51</td>\n",
       "      <td>negative</td>\n",
       "      <td>10</td>\n",
       "      <td>photo</td>\n",
       "      <td>Studying</td>\n",
       "    </tr>\n",
       "    <tr>\n",
       "      <th>2</th>\n",
       "      <td>97522e57-d9ab-4bd6-97bf-c24d952602d2</td>\n",
       "      <td>163daa38-8b77-48c9-9af6-37a6c1447ac2</td>\n",
       "      <td>scared</td>\n",
       "      <td>2021-04-18 05:13:58</td>\n",
       "      <td>negative</td>\n",
       "      <td>15</td>\n",
       "      <td>photo</td>\n",
       "      <td>Studying</td>\n",
       "    </tr>\n",
       "    <tr>\n",
       "      <th>3</th>\n",
       "      <td>97522e57-d9ab-4bd6-97bf-c24d952602d2</td>\n",
       "      <td>34e8add9-0206-47fd-a501-037b994650a2</td>\n",
       "      <td>disgust</td>\n",
       "      <td>2021-01-06 19:13:01</td>\n",
       "      <td>negative</td>\n",
       "      <td>0</td>\n",
       "      <td>photo</td>\n",
       "      <td>Studying</td>\n",
       "    </tr>\n",
       "    <tr>\n",
       "      <th>4</th>\n",
       "      <td>97522e57-d9ab-4bd6-97bf-c24d952602d2</td>\n",
       "      <td>9b6d35f9-5e15-4cd0-a8d7-b1f3340e02c4</td>\n",
       "      <td>interested</td>\n",
       "      <td>2020-08-23 12:25:58</td>\n",
       "      <td>positive</td>\n",
       "      <td>30</td>\n",
       "      <td>photo</td>\n",
       "      <td>Studying</td>\n",
       "    </tr>\n",
       "    <tr>\n",
       "      <th>...</th>\n",
       "      <td>...</td>\n",
       "      <td>...</td>\n",
       "      <td>...</td>\n",
       "      <td>...</td>\n",
       "      <td>...</td>\n",
       "      <td>...</td>\n",
       "      <td>...</td>\n",
       "      <td>...</td>\n",
       "    </tr>\n",
       "    <tr>\n",
       "      <th>22529</th>\n",
       "      <td>75d6b589-7fae-4a6d-b0d0-752845150e56</td>\n",
       "      <td>b6d04982-1509-41ab-a700-b390d6cb4d02</td>\n",
       "      <td>worried</td>\n",
       "      <td>2020-10-31 04:50:14</td>\n",
       "      <td>negative</td>\n",
       "      <td>12</td>\n",
       "      <td>audio</td>\n",
       "      <td>Technology</td>\n",
       "    </tr>\n",
       "    <tr>\n",
       "      <th>22530</th>\n",
       "      <td>75d6b589-7fae-4a6d-b0d0-752845150e56</td>\n",
       "      <td>80c9ce48-46f9-4f5e-b3ca-3b698fc2e949</td>\n",
       "      <td>dislike</td>\n",
       "      <td>2020-06-27 09:46:48</td>\n",
       "      <td>negative</td>\n",
       "      <td>10</td>\n",
       "      <td>audio</td>\n",
       "      <td>Technology</td>\n",
       "    </tr>\n",
       "    <tr>\n",
       "      <th>22531</th>\n",
       "      <td>75d6b589-7fae-4a6d-b0d0-752845150e56</td>\n",
       "      <td>2bd9c167-e06c-47c1-a978-3403d6724606</td>\n",
       "      <td>intrigued</td>\n",
       "      <td>2021-02-16 17:17:02</td>\n",
       "      <td>positive</td>\n",
       "      <td>45</td>\n",
       "      <td>audio</td>\n",
       "      <td>Technology</td>\n",
       "    </tr>\n",
       "    <tr>\n",
       "      <th>22532</th>\n",
       "      <td>75d6b589-7fae-4a6d-b0d0-752845150e56</td>\n",
       "      <td>5ffd8b51-164e-47e2-885e-8b8c46eb63ed</td>\n",
       "      <td>worried</td>\n",
       "      <td>2020-11-04 20:08:31</td>\n",
       "      <td>negative</td>\n",
       "      <td>12</td>\n",
       "      <td>audio</td>\n",
       "      <td>Technology</td>\n",
       "    </tr>\n",
       "    <tr>\n",
       "      <th>22533</th>\n",
       "      <td>75d6b589-7fae-4a6d-b0d0-752845150e56</td>\n",
       "      <td>4edc3d1a-a7d9-4db6-89c3-f784d9954172</td>\n",
       "      <td>cherish</td>\n",
       "      <td>2021-01-04 04:55:11</td>\n",
       "      <td>positive</td>\n",
       "      <td>70</td>\n",
       "      <td>audio</td>\n",
       "      <td>Technology</td>\n",
       "    </tr>\n",
       "  </tbody>\n",
       "</table>\n",
       "<p>22534 rows × 8 columns</p>\n",
       "</div>"
      ],
      "text/plain": [
       "                                 Content ID  \\\n",
       "0      97522e57-d9ab-4bd6-97bf-c24d952602d2   \n",
       "1      97522e57-d9ab-4bd6-97bf-c24d952602d2   \n",
       "2      97522e57-d9ab-4bd6-97bf-c24d952602d2   \n",
       "3      97522e57-d9ab-4bd6-97bf-c24d952602d2   \n",
       "4      97522e57-d9ab-4bd6-97bf-c24d952602d2   \n",
       "...                                     ...   \n",
       "22529  75d6b589-7fae-4a6d-b0d0-752845150e56   \n",
       "22530  75d6b589-7fae-4a6d-b0d0-752845150e56   \n",
       "22531  75d6b589-7fae-4a6d-b0d0-752845150e56   \n",
       "22532  75d6b589-7fae-4a6d-b0d0-752845150e56   \n",
       "22533  75d6b589-7fae-4a6d-b0d0-752845150e56   \n",
       "\n",
       "                                    User ID        Type             Datetime  \\\n",
       "0      5d454588-283d-459d-915d-c48a2cb4c27f     disgust  2020-11-07 09:43:50   \n",
       "1      92b87fa5-f271-43e0-af66-84fac21052e6     dislike  2021-06-17 12:22:51   \n",
       "2      163daa38-8b77-48c9-9af6-37a6c1447ac2      scared  2021-04-18 05:13:58   \n",
       "3      34e8add9-0206-47fd-a501-037b994650a2     disgust  2021-01-06 19:13:01   \n",
       "4      9b6d35f9-5e15-4cd0-a8d7-b1f3340e02c4  interested  2020-08-23 12:25:58   \n",
       "...                                     ...         ...                  ...   \n",
       "22529  b6d04982-1509-41ab-a700-b390d6cb4d02     worried  2020-10-31 04:50:14   \n",
       "22530  80c9ce48-46f9-4f5e-b3ca-3b698fc2e949     dislike  2020-06-27 09:46:48   \n",
       "22531  2bd9c167-e06c-47c1-a978-3403d6724606   intrigued  2021-02-16 17:17:02   \n",
       "22532  5ffd8b51-164e-47e2-885e-8b8c46eb63ed     worried  2020-11-04 20:08:31   \n",
       "22533  4edc3d1a-a7d9-4db6-89c3-f784d9954172     cherish  2021-01-04 04:55:11   \n",
       "\n",
       "      Sentiment  Score Content Type    Category  \n",
       "0      negative      0        photo    Studying  \n",
       "1      negative     10        photo    Studying  \n",
       "2      negative     15        photo    Studying  \n",
       "3      negative      0        photo    Studying  \n",
       "4      positive     30        photo    Studying  \n",
       "...         ...    ...          ...         ...  \n",
       "22529  negative     12        audio  Technology  \n",
       "22530  negative     10        audio  Technology  \n",
       "22531  positive     45        audio  Technology  \n",
       "22532  negative     12        audio  Technology  \n",
       "22533  positive     70        audio  Technology  \n",
       "\n",
       "[22534 rows x 8 columns]"
      ]
     },
     "execution_count": 40,
     "metadata": {},
     "output_type": "execute_result"
    }
   ],
   "source": [
    "reactions_with_scoring_and_content_info = reactions_with_scoring.merge(content, on = 'Content ID')\n",
    "reactions_with_scoring_and_content_info"
   ]
  },
  {
   "cell_type": "markdown",
   "metadata": {},
   "source": [
    "## Reorganizing Columns\n"
   ]
  },
  {
   "cell_type": "code",
   "execution_count": 41,
   "metadata": {},
   "outputs": [
    {
     "data": {
      "text/html": [
       "<div>\n",
       "<style scoped>\n",
       "    .dataframe tbody tr th:only-of-type {\n",
       "        vertical-align: middle;\n",
       "    }\n",
       "\n",
       "    .dataframe tbody tr th {\n",
       "        vertical-align: top;\n",
       "    }\n",
       "\n",
       "    .dataframe thead th {\n",
       "        text-align: right;\n",
       "    }\n",
       "</style>\n",
       "<table border=\"1\" class=\"dataframe\">\n",
       "  <thead>\n",
       "    <tr style=\"text-align: right;\">\n",
       "      <th></th>\n",
       "      <th>Content ID</th>\n",
       "      <th>Reaction Type</th>\n",
       "      <th>Datetime</th>\n",
       "      <th>User ID</th>\n",
       "      <th>Content Type</th>\n",
       "      <th>Category</th>\n",
       "      <th>Sentiment</th>\n",
       "      <th>Score</th>\n",
       "    </tr>\n",
       "  </thead>\n",
       "  <tbody>\n",
       "    <tr>\n",
       "      <th>0</th>\n",
       "      <td>97522e57-d9ab-4bd6-97bf-c24d952602d2</td>\n",
       "      <td>disgust</td>\n",
       "      <td>2020-11-07 09:43:50</td>\n",
       "      <td>5d454588-283d-459d-915d-c48a2cb4c27f</td>\n",
       "      <td>photo</td>\n",
       "      <td>Studying</td>\n",
       "      <td>negative</td>\n",
       "      <td>0</td>\n",
       "    </tr>\n",
       "    <tr>\n",
       "      <th>1</th>\n",
       "      <td>97522e57-d9ab-4bd6-97bf-c24d952602d2</td>\n",
       "      <td>dislike</td>\n",
       "      <td>2021-06-17 12:22:51</td>\n",
       "      <td>92b87fa5-f271-43e0-af66-84fac21052e6</td>\n",
       "      <td>photo</td>\n",
       "      <td>Studying</td>\n",
       "      <td>negative</td>\n",
       "      <td>10</td>\n",
       "    </tr>\n",
       "    <tr>\n",
       "      <th>2</th>\n",
       "      <td>97522e57-d9ab-4bd6-97bf-c24d952602d2</td>\n",
       "      <td>scared</td>\n",
       "      <td>2021-04-18 05:13:58</td>\n",
       "      <td>163daa38-8b77-48c9-9af6-37a6c1447ac2</td>\n",
       "      <td>photo</td>\n",
       "      <td>Studying</td>\n",
       "      <td>negative</td>\n",
       "      <td>15</td>\n",
       "    </tr>\n",
       "    <tr>\n",
       "      <th>3</th>\n",
       "      <td>97522e57-d9ab-4bd6-97bf-c24d952602d2</td>\n",
       "      <td>disgust</td>\n",
       "      <td>2021-01-06 19:13:01</td>\n",
       "      <td>34e8add9-0206-47fd-a501-037b994650a2</td>\n",
       "      <td>photo</td>\n",
       "      <td>Studying</td>\n",
       "      <td>negative</td>\n",
       "      <td>0</td>\n",
       "    </tr>\n",
       "    <tr>\n",
       "      <th>4</th>\n",
       "      <td>97522e57-d9ab-4bd6-97bf-c24d952602d2</td>\n",
       "      <td>interested</td>\n",
       "      <td>2020-08-23 12:25:58</td>\n",
       "      <td>9b6d35f9-5e15-4cd0-a8d7-b1f3340e02c4</td>\n",
       "      <td>photo</td>\n",
       "      <td>Studying</td>\n",
       "      <td>positive</td>\n",
       "      <td>30</td>\n",
       "    </tr>\n",
       "    <tr>\n",
       "      <th>...</th>\n",
       "      <td>...</td>\n",
       "      <td>...</td>\n",
       "      <td>...</td>\n",
       "      <td>...</td>\n",
       "      <td>...</td>\n",
       "      <td>...</td>\n",
       "      <td>...</td>\n",
       "      <td>...</td>\n",
       "    </tr>\n",
       "    <tr>\n",
       "      <th>22529</th>\n",
       "      <td>75d6b589-7fae-4a6d-b0d0-752845150e56</td>\n",
       "      <td>worried</td>\n",
       "      <td>2020-10-31 04:50:14</td>\n",
       "      <td>b6d04982-1509-41ab-a700-b390d6cb4d02</td>\n",
       "      <td>audio</td>\n",
       "      <td>Technology</td>\n",
       "      <td>negative</td>\n",
       "      <td>12</td>\n",
       "    </tr>\n",
       "    <tr>\n",
       "      <th>22530</th>\n",
       "      <td>75d6b589-7fae-4a6d-b0d0-752845150e56</td>\n",
       "      <td>dislike</td>\n",
       "      <td>2020-06-27 09:46:48</td>\n",
       "      <td>80c9ce48-46f9-4f5e-b3ca-3b698fc2e949</td>\n",
       "      <td>audio</td>\n",
       "      <td>Technology</td>\n",
       "      <td>negative</td>\n",
       "      <td>10</td>\n",
       "    </tr>\n",
       "    <tr>\n",
       "      <th>22531</th>\n",
       "      <td>75d6b589-7fae-4a6d-b0d0-752845150e56</td>\n",
       "      <td>intrigued</td>\n",
       "      <td>2021-02-16 17:17:02</td>\n",
       "      <td>2bd9c167-e06c-47c1-a978-3403d6724606</td>\n",
       "      <td>audio</td>\n",
       "      <td>Technology</td>\n",
       "      <td>positive</td>\n",
       "      <td>45</td>\n",
       "    </tr>\n",
       "    <tr>\n",
       "      <th>22532</th>\n",
       "      <td>75d6b589-7fae-4a6d-b0d0-752845150e56</td>\n",
       "      <td>worried</td>\n",
       "      <td>2020-11-04 20:08:31</td>\n",
       "      <td>5ffd8b51-164e-47e2-885e-8b8c46eb63ed</td>\n",
       "      <td>audio</td>\n",
       "      <td>Technology</td>\n",
       "      <td>negative</td>\n",
       "      <td>12</td>\n",
       "    </tr>\n",
       "    <tr>\n",
       "      <th>22533</th>\n",
       "      <td>75d6b589-7fae-4a6d-b0d0-752845150e56</td>\n",
       "      <td>cherish</td>\n",
       "      <td>2021-01-04 04:55:11</td>\n",
       "      <td>4edc3d1a-a7d9-4db6-89c3-f784d9954172</td>\n",
       "      <td>audio</td>\n",
       "      <td>Technology</td>\n",
       "      <td>positive</td>\n",
       "      <td>70</td>\n",
       "    </tr>\n",
       "  </tbody>\n",
       "</table>\n",
       "<p>22534 rows × 8 columns</p>\n",
       "</div>"
      ],
      "text/plain": [
       "                                 Content ID Reaction Type  \\\n",
       "0      97522e57-d9ab-4bd6-97bf-c24d952602d2       disgust   \n",
       "1      97522e57-d9ab-4bd6-97bf-c24d952602d2       dislike   \n",
       "2      97522e57-d9ab-4bd6-97bf-c24d952602d2        scared   \n",
       "3      97522e57-d9ab-4bd6-97bf-c24d952602d2       disgust   \n",
       "4      97522e57-d9ab-4bd6-97bf-c24d952602d2    interested   \n",
       "...                                     ...           ...   \n",
       "22529  75d6b589-7fae-4a6d-b0d0-752845150e56       worried   \n",
       "22530  75d6b589-7fae-4a6d-b0d0-752845150e56       dislike   \n",
       "22531  75d6b589-7fae-4a6d-b0d0-752845150e56     intrigued   \n",
       "22532  75d6b589-7fae-4a6d-b0d0-752845150e56       worried   \n",
       "22533  75d6b589-7fae-4a6d-b0d0-752845150e56       cherish   \n",
       "\n",
       "                  Datetime                               User ID Content Type  \\\n",
       "0      2020-11-07 09:43:50  5d454588-283d-459d-915d-c48a2cb4c27f        photo   \n",
       "1      2021-06-17 12:22:51  92b87fa5-f271-43e0-af66-84fac21052e6        photo   \n",
       "2      2021-04-18 05:13:58  163daa38-8b77-48c9-9af6-37a6c1447ac2        photo   \n",
       "3      2021-01-06 19:13:01  34e8add9-0206-47fd-a501-037b994650a2        photo   \n",
       "4      2020-08-23 12:25:58  9b6d35f9-5e15-4cd0-a8d7-b1f3340e02c4        photo   \n",
       "...                    ...                                   ...          ...   \n",
       "22529  2020-10-31 04:50:14  b6d04982-1509-41ab-a700-b390d6cb4d02        audio   \n",
       "22530  2020-06-27 09:46:48  80c9ce48-46f9-4f5e-b3ca-3b698fc2e949        audio   \n",
       "22531  2021-02-16 17:17:02  2bd9c167-e06c-47c1-a978-3403d6724606        audio   \n",
       "22532  2020-11-04 20:08:31  5ffd8b51-164e-47e2-885e-8b8c46eb63ed        audio   \n",
       "22533  2021-01-04 04:55:11  4edc3d1a-a7d9-4db6-89c3-f784d9954172        audio   \n",
       "\n",
       "         Category Sentiment  Score  \n",
       "0        Studying  negative      0  \n",
       "1        Studying  negative     10  \n",
       "2        Studying  negative     15  \n",
       "3        Studying  negative      0  \n",
       "4        Studying  positive     30  \n",
       "...           ...       ...    ...  \n",
       "22529  Technology  negative     12  \n",
       "22530  Technology  negative     10  \n",
       "22531  Technology  positive     45  \n",
       "22532  Technology  negative     12  \n",
       "22533  Technology  positive     70  \n",
       "\n",
       "[22534 rows x 8 columns]"
      ]
     },
     "execution_count": 41,
     "metadata": {},
     "output_type": "execute_result"
    }
   ],
   "source": [
    "reactions_with_scoring_and_content_info.rename(columns = {'Type': 'Reaction Type'}, inplace = True)\n",
    "reactions_with_scoring_and_content_info = reactions_with_scoring_and_content_info[['Content ID', 'Reaction Type', 'Datetime', 'User ID', 'Content Type', 'Category', 'Sentiment', 'Score']]\n",
    "reactions_with_scoring_and_content_info"
   ]
  },
  {
   "cell_type": "markdown",
   "metadata": {},
   "source": [
    "## Write to CSV"
   ]
  },
  {
   "cell_type": "code",
   "execution_count": 42,
   "metadata": {},
   "outputs": [],
   "source": [
    "reactions_with_scoring_and_content_info.to_csv('final_data.csv')"
   ]
  },
  {
   "cell_type": "markdown",
   "metadata": {},
   "source": [
    "## Making Visualizations"
   ]
  },
  {
   "cell_type": "code",
   "execution_count": 43,
   "metadata": {},
   "outputs": [],
   "source": [
    "# rename dataframe\n",
    "data = reactions_with_scoring_and_content_info"
   ]
  },
  {
   "cell_type": "markdown",
   "metadata": {},
   "source": [
    "### Sentiments based on content type"
   ]
  },
  {
   "cell_type": "code",
   "execution_count": 44,
   "metadata": {},
   "outputs": [
    {
     "data": {
      "text/html": [
       "<div>\n",
       "<style scoped>\n",
       "    .dataframe tbody tr th:only-of-type {\n",
       "        vertical-align: middle;\n",
       "    }\n",
       "\n",
       "    .dataframe tbody tr th {\n",
       "        vertical-align: top;\n",
       "    }\n",
       "\n",
       "    .dataframe thead th {\n",
       "        text-align: right;\n",
       "    }\n",
       "</style>\n",
       "<table border=\"1\" class=\"dataframe\">\n",
       "  <thead>\n",
       "    <tr style=\"text-align: right;\">\n",
       "      <th></th>\n",
       "      <th>Content ID</th>\n",
       "      <th>Reaction Type</th>\n",
       "      <th>Datetime</th>\n",
       "      <th>User ID</th>\n",
       "      <th>Content Type</th>\n",
       "      <th>Category</th>\n",
       "      <th>Sentiment</th>\n",
       "      <th>Score</th>\n",
       "    </tr>\n",
       "  </thead>\n",
       "  <tbody>\n",
       "    <tr>\n",
       "      <th>0</th>\n",
       "      <td>97522e57-d9ab-4bd6-97bf-c24d952602d2</td>\n",
       "      <td>disgust</td>\n",
       "      <td>2020-11-07 09:43:50</td>\n",
       "      <td>5d454588-283d-459d-915d-c48a2cb4c27f</td>\n",
       "      <td>photo</td>\n",
       "      <td>Studying</td>\n",
       "      <td>negative</td>\n",
       "      <td>0</td>\n",
       "    </tr>\n",
       "    <tr>\n",
       "      <th>1</th>\n",
       "      <td>97522e57-d9ab-4bd6-97bf-c24d952602d2</td>\n",
       "      <td>dislike</td>\n",
       "      <td>2021-06-17 12:22:51</td>\n",
       "      <td>92b87fa5-f271-43e0-af66-84fac21052e6</td>\n",
       "      <td>photo</td>\n",
       "      <td>Studying</td>\n",
       "      <td>negative</td>\n",
       "      <td>10</td>\n",
       "    </tr>\n",
       "    <tr>\n",
       "      <th>2</th>\n",
       "      <td>97522e57-d9ab-4bd6-97bf-c24d952602d2</td>\n",
       "      <td>scared</td>\n",
       "      <td>2021-04-18 05:13:58</td>\n",
       "      <td>163daa38-8b77-48c9-9af6-37a6c1447ac2</td>\n",
       "      <td>photo</td>\n",
       "      <td>Studying</td>\n",
       "      <td>negative</td>\n",
       "      <td>15</td>\n",
       "    </tr>\n",
       "    <tr>\n",
       "      <th>3</th>\n",
       "      <td>97522e57-d9ab-4bd6-97bf-c24d952602d2</td>\n",
       "      <td>disgust</td>\n",
       "      <td>2021-01-06 19:13:01</td>\n",
       "      <td>34e8add9-0206-47fd-a501-037b994650a2</td>\n",
       "      <td>photo</td>\n",
       "      <td>Studying</td>\n",
       "      <td>negative</td>\n",
       "      <td>0</td>\n",
       "    </tr>\n",
       "    <tr>\n",
       "      <th>4</th>\n",
       "      <td>97522e57-d9ab-4bd6-97bf-c24d952602d2</td>\n",
       "      <td>interested</td>\n",
       "      <td>2020-08-23 12:25:58</td>\n",
       "      <td>9b6d35f9-5e15-4cd0-a8d7-b1f3340e02c4</td>\n",
       "      <td>photo</td>\n",
       "      <td>Studying</td>\n",
       "      <td>positive</td>\n",
       "      <td>30</td>\n",
       "    </tr>\n",
       "    <tr>\n",
       "      <th>...</th>\n",
       "      <td>...</td>\n",
       "      <td>...</td>\n",
       "      <td>...</td>\n",
       "      <td>...</td>\n",
       "      <td>...</td>\n",
       "      <td>...</td>\n",
       "      <td>...</td>\n",
       "      <td>...</td>\n",
       "    </tr>\n",
       "    <tr>\n",
       "      <th>22435</th>\n",
       "      <td>c54b49c4-b1f2-4641-8595-1cbd19937845</td>\n",
       "      <td>love</td>\n",
       "      <td>2020-12-12 21:17:55</td>\n",
       "      <td>a94a7d87-65df-4c21-847a-0e8af6cb5c02</td>\n",
       "      <td>photo</td>\n",
       "      <td>Science</td>\n",
       "      <td>positive</td>\n",
       "      <td>65</td>\n",
       "    </tr>\n",
       "    <tr>\n",
       "      <th>22436</th>\n",
       "      <td>c54b49c4-b1f2-4641-8595-1cbd19937845</td>\n",
       "      <td>disgust</td>\n",
       "      <td>2021-04-02 18:59:44</td>\n",
       "      <td>69f2735b-eee6-4fc1-a934-b31c20beb780</td>\n",
       "      <td>photo</td>\n",
       "      <td>Science</td>\n",
       "      <td>negative</td>\n",
       "      <td>0</td>\n",
       "    </tr>\n",
       "    <tr>\n",
       "      <th>22437</th>\n",
       "      <td>c54b49c4-b1f2-4641-8595-1cbd19937845</td>\n",
       "      <td>want</td>\n",
       "      <td>2020-09-17 02:27:46</td>\n",
       "      <td>af647535-dae8-4ca3-9203-bf4bfc607ffe</td>\n",
       "      <td>photo</td>\n",
       "      <td>Science</td>\n",
       "      <td>positive</td>\n",
       "      <td>70</td>\n",
       "    </tr>\n",
       "    <tr>\n",
       "      <th>22438</th>\n",
       "      <td>c54b49c4-b1f2-4641-8595-1cbd19937845</td>\n",
       "      <td>heart</td>\n",
       "      <td>2020-06-30 04:11:55</td>\n",
       "      <td>b870b764-7447-4990-a8d4-024d33e0e67d</td>\n",
       "      <td>photo</td>\n",
       "      <td>Science</td>\n",
       "      <td>positive</td>\n",
       "      <td>60</td>\n",
       "    </tr>\n",
       "    <tr>\n",
       "      <th>22439</th>\n",
       "      <td>c54b49c4-b1f2-4641-8595-1cbd19937845</td>\n",
       "      <td>adore</td>\n",
       "      <td>2020-07-29 13:54:24</td>\n",
       "      <td>7adafb3c-7c7c-492b-be5b-5ddd9ff1316a</td>\n",
       "      <td>photo</td>\n",
       "      <td>Science</td>\n",
       "      <td>positive</td>\n",
       "      <td>72</td>\n",
       "    </tr>\n",
       "  </tbody>\n",
       "</table>\n",
       "<p>6043 rows × 8 columns</p>\n",
       "</div>"
      ],
      "text/plain": [
       "                                 Content ID Reaction Type  \\\n",
       "0      97522e57-d9ab-4bd6-97bf-c24d952602d2       disgust   \n",
       "1      97522e57-d9ab-4bd6-97bf-c24d952602d2       dislike   \n",
       "2      97522e57-d9ab-4bd6-97bf-c24d952602d2        scared   \n",
       "3      97522e57-d9ab-4bd6-97bf-c24d952602d2       disgust   \n",
       "4      97522e57-d9ab-4bd6-97bf-c24d952602d2    interested   \n",
       "...                                     ...           ...   \n",
       "22435  c54b49c4-b1f2-4641-8595-1cbd19937845          love   \n",
       "22436  c54b49c4-b1f2-4641-8595-1cbd19937845       disgust   \n",
       "22437  c54b49c4-b1f2-4641-8595-1cbd19937845          want   \n",
       "22438  c54b49c4-b1f2-4641-8595-1cbd19937845         heart   \n",
       "22439  c54b49c4-b1f2-4641-8595-1cbd19937845         adore   \n",
       "\n",
       "                  Datetime                               User ID Content Type  \\\n",
       "0      2020-11-07 09:43:50  5d454588-283d-459d-915d-c48a2cb4c27f        photo   \n",
       "1      2021-06-17 12:22:51  92b87fa5-f271-43e0-af66-84fac21052e6        photo   \n",
       "2      2021-04-18 05:13:58  163daa38-8b77-48c9-9af6-37a6c1447ac2        photo   \n",
       "3      2021-01-06 19:13:01  34e8add9-0206-47fd-a501-037b994650a2        photo   \n",
       "4      2020-08-23 12:25:58  9b6d35f9-5e15-4cd0-a8d7-b1f3340e02c4        photo   \n",
       "...                    ...                                   ...          ...   \n",
       "22435  2020-12-12 21:17:55  a94a7d87-65df-4c21-847a-0e8af6cb5c02        photo   \n",
       "22436  2021-04-02 18:59:44  69f2735b-eee6-4fc1-a934-b31c20beb780        photo   \n",
       "22437  2020-09-17 02:27:46  af647535-dae8-4ca3-9203-bf4bfc607ffe        photo   \n",
       "22438  2020-06-30 04:11:55  b870b764-7447-4990-a8d4-024d33e0e67d        photo   \n",
       "22439  2020-07-29 13:54:24  7adafb3c-7c7c-492b-be5b-5ddd9ff1316a        photo   \n",
       "\n",
       "       Category Sentiment  Score  \n",
       "0      Studying  negative      0  \n",
       "1      Studying  negative     10  \n",
       "2      Studying  negative     15  \n",
       "3      Studying  negative      0  \n",
       "4      Studying  positive     30  \n",
       "...         ...       ...    ...  \n",
       "22435   Science  positive     65  \n",
       "22436   Science  negative      0  \n",
       "22437   Science  positive     70  \n",
       "22438   Science  positive     60  \n",
       "22439   Science  positive     72  \n",
       "\n",
       "[6043 rows x 8 columns]"
      ]
     },
     "execution_count": 44,
     "metadata": {},
     "output_type": "execute_result"
    }
   ],
   "source": [
    "photo_data = data[data['Content Type'] == 'photo']\n",
    "video_data = data[data['Content Type'] == 'video']\n",
    "gif_data = data[data['Content Type'] == 'GIF']\n",
    "audio_data = data[data['Content Type'] == 'audio']\n",
    "\n",
    "labels = ['Positive', 'Negative', 'Neutral']\n",
    "\n",
    "photo_data"
   ]
  },
  {
   "cell_type": "code",
   "execution_count": 45,
   "metadata": {},
   "outputs": [
    {
     "data": {
      "image/png": "[encoded data removed]",
      "text/plain": [
       "<Figure size 432x288 with 1 Axes>"
      ]
     },
     "metadata": {},
     "output_type": "display_data"
    }
   ],
   "source": [
    "plt.pie(photo_data['Sentiment'].value_counts(), labels = labels, autopct='%0.1f%%')\n",
    "plt.show()"
   ]
  },
  {
   "cell_type": "code",
   "execution_count": 46,
   "metadata": {},
   "outputs": [
    {
     "data": {
      "image/png": "[encoded data removed]",
      "text/plain": [
       "<Figure size 432x288 with 1 Axes>"
      ]
     },
     "metadata": {},
     "output_type": "display_data"
    }
   ],
   "source": [
    "plt.pie(video_data['Sentiment'].value_counts(), labels = labels, autopct='%0.1f%%')\n",
    "plt.show()"
   ]
  },
  {
   "cell_type": "code",
   "execution_count": 47,
   "metadata": {},
   "outputs": [
    {
     "data": {
      "image/png": "[encoded data removed]",
      "text/plain": [
       "<Figure size 432x288 with 1 Axes>"
      ]
     },
     "metadata": {},
     "output_type": "display_data"
    }
   ],
   "source": [
    "plt.pie(gif_data['Sentiment'].value_counts(), labels = labels, autopct='%0.1f%%')\n",
    "plt.show()"
   ]
  },
  {
   "cell_type": "code",
   "execution_count": 48,
   "metadata": {},
   "outputs": [
    {
     "data": {
      "image/png": "[encoded data removed]",
      "text/plain": [
       "<Figure size 432x288 with 1 Axes>"
      ]
     },
     "metadata": {},
     "output_type": "display_data"
    }
   ],
   "source": [
    "plt.pie(audio_data['Sentiment'].value_counts(), labels = labels,  autopct='%0.1f%%')\n",
    "plt.show()"
   ]
  },
  {
   "cell_type": "markdown",
   "metadata": {},
   "source": [
    "### Average score based on category"
   ]
  },
  {
   "cell_type": "code",
   "execution_count": 49,
   "metadata": {},
   "outputs": [
    {
     "data": {
      "text/plain": [
       "{'Tennis': 37.91871921182266,\n",
       " 'Cooking': 38.802622950819675,\n",
       " 'Travel': 39.309933774834434,\n",
       " 'Culture': 39.442782834850455,\n",
       " 'Dogs': 39.4441727791361,\n",
       " 'Animals': 39.484464902186424,\n",
       " 'Studying': 39.521982414068745,\n",
       " 'Food': 39.587403598971726,\n",
       " 'Fitness': 39.5911214953271,\n",
       " 'Science': 39.73572296476306,\n",
       " 'Soccer': 39.74309185959672,\n",
       " 'Veganism': 40.053228621291446,\n",
       " 'Healthy Eating': 40.16412213740458,\n",
       " 'Education': 40.24332570556827,\n",
       " 'Technology': 40.48490687219011,\n",
       " 'Public Speaking': 40.99551971326165}"
      ]
     },
     "execution_count": 49,
     "metadata": {},
     "output_type": "execute_result"
    }
   ],
   "source": [
    "avg_scores = dict()\n",
    "\n",
    "for category in data['Category'].unique():\n",
    "    avg_scores[category] = data[data['Category'] == category]['Score'].mean()\n",
    "\n",
    "avg_scores = dict(sorted(avg_scores.items(), key = lambda x: x[1]))\n",
    "avg_scores"
   ]
  },
  {
   "cell_type": "code",
   "execution_count": 80,
   "metadata": {},
   "outputs": [
    {
     "data": {
      "image/png": "[encoded data removed]",
      "text/plain": [
       "<Figure size 432x288 with 1 Axes>"
      ]
     },
     "metadata": {
      "needs_background": "light"
     },
     "output_type": "display_data"
    }
   ],
   "source": [
    "plt.bar(avg_scores.keys(), avg_scores.values(), color = '#8ec400')\n",
    "plt.title('Average Score per Category')\n",
    "plt.ylabel('Average Score')\n",
    "plt.xticks(rotation='70')\n",
    "plt.ylim(34, 42)\n",
    "plt.show()"
   ]
  },
  {
   "cell_type": "markdown",
   "metadata": {},
   "source": [
    "### Barchart showing total score per month"
   ]
  },
  {
   "cell_type": "code",
   "execution_count": 51,
   "metadata": {},
   "outputs": [
    {
     "data": {
      "text/plain": [
       "{'Jun 2020': 31902,\n",
       " 'Jul 2020': 75281,\n",
       " 'Aug 2020': 75227,\n",
       " 'Sep 2020': 73370,\n",
       " 'Oct 2020': 75969,\n",
       " 'Nov 2020': 75770,\n",
       " 'Dec 2020': 75623,\n",
       " 'Jan 2021': 76343,\n",
       " 'Feb 2021': 68993,\n",
       " 'Mar 2021': 72829,\n",
       " 'Apr 2021': 72141,\n",
       " 'May 2021': 78972,\n",
       " 'Jun 2021': 41062}"
      ]
     },
     "execution_count": 51,
     "metadata": {},
     "output_type": "execute_result"
    }
   ],
   "source": [
    "data['Datetime'] = data['Datetime'].astype('datetime64[ns]')\n",
    "monthly_scores = data.groupby(data.Datetime.dt.to_period('M'))['Score'].sum()\n",
    "\n",
    "# converting dates to word format\n",
    "monthly_scores = {monthly_scores.keys()[i].to_timestamp().strftime('%b %Y'): monthly_scores.get(i) for i in range(0, monthly_scores.size)} \n",
    "monthly_scores"
   ]
  },
  {
   "cell_type": "code",
   "execution_count": 67,
   "metadata": {},
   "outputs": [
    {
     "data": {
      "image/png": "[encoded data removed]",
      "text/plain": [
       "<Figure size 432x288 with 1 Axes>"
      ]
     },
     "metadata": {
      "needs_background": "light"
     },
     "output_type": "display_data"
    }
   ],
   "source": [
    "plt.bar(monthly_scores.keys(), monthly_scores.values())\n",
    "plt.title('Aggregated Popularity Score per Month for One Year')\n",
    "plt.ylabel('Popularity Score')\n",
    "plt.xticks(rotation='45')\n",
    "plt.ylim(20000, 85000)\n",
    "\n",
    "plt.show()"
   ]
  },
  {
   "cell_type": "markdown",
   "metadata": {},
   "source": [
    "### Number of posts per category"
   ]
  },
  {
   "cell_type": "code",
   "execution_count": 53,
   "metadata": {},
   "outputs": [
    {
     "data": {
      "text/plain": [
       "{'Public Speaking': 1116,\n",
       " 'Veganism': 1146,\n",
       " 'Tennis': 1218,\n",
       " 'Dogs': 1227,\n",
       " 'Studying': 1251,\n",
       " 'Fitness': 1284,\n",
       " 'Education': 1311,\n",
       " 'Soccer': 1339,\n",
       " 'Travel': 1510,\n",
       " 'Cooking': 1525,\n",
       " 'Culture': 1538,\n",
       " 'Food': 1556,\n",
       " 'Technology': 1557,\n",
       " 'Healthy Eating': 1572,\n",
       " 'Science': 1646,\n",
       " 'Animals': 1738}"
      ]
     },
     "execution_count": 53,
     "metadata": {},
     "output_type": "execute_result"
    }
   ],
   "source": [
    "category_counts = dict()\n",
    "\n",
    "for category in data['Category'].unique():\n",
    "    category_counts[category] = data[data['Category'] == category]['Score'].size\n",
    "\n",
    "category_counts = dict(sorted(category_counts.items(), key = lambda x: x[1]))\n",
    "category_counts"
   ]
  },
  {
   "cell_type": "markdown",
   "metadata": {},
   "source": [
    "### Aggregated scores per category"
   ]
  },
  {
   "cell_type": "code",
   "execution_count": 62,
   "metadata": {},
   "outputs": [
    {
     "data": {
      "text/plain": [
       "{'Animals': 68624,\n",
       " 'Science': 65405,\n",
       " 'Healthy Eating': 63138,\n",
       " 'Technology': 63035,\n",
       " 'Food': 61598}"
      ]
     },
     "execution_count": 62,
     "metadata": {},
     "output_type": "execute_result"
    }
   ],
   "source": [
    "# category_scores = data.groupby(data.Datetime.dt.to_period('M'))['Score'].sum()\n",
    "category_scores = data.groupby('Category')['Score'].sum()\n",
    "\n",
    "category_scores  = {category_scores .keys()[i]: category_scores.get(i) for i in range(0, category_scores.size)} \n",
    "category_scores = dict(sorted(category_scores.items(), key = lambda x: x[1]))\n",
    "\n",
    "top_5 = {list(category_scores.keys())[i]: list(category_scores.values())[i] for i in range(len(category_scores) - 1, 10,-1)}\n",
    "top_5 "
   ]
  },
  {
   "cell_type": "code",
   "execution_count": 63,
   "metadata": {},
   "outputs": [
    {
     "data": {
      "image/png": "[encoded data removed]",
      "text/plain": [
       "<Figure size 432x288 with 1 Axes>"
      ]
     },
     "metadata": {
      "needs_background": "light"
     },
     "output_type": "display_data"
    }
   ],
   "source": [
    "fig, ax = plt.subplots()\n",
    "y_pos = np.arange(len(top_5.keys()))\n",
    "\n",
    "ax.barh(y_pos, top_5.values(), align = 'center', color = '#8ec400')\n",
    "\n",
    "ax.set_yticks(y_pos, labels=top_5.keys())\n",
    "ax.invert_yaxis()\n",
    "ax.set_xlabel('Aggregate Popularity Score')\n",
    "ax.set_title('Top 5 Categories by Aggregate Popularity Score')\n",
    "plt.xlim(55000, 70000)\n",
    "#plt.savefig('top_aggregate_score.png')\n",
    "plt.show()"
   ]
  },
  {
   "cell_type": "markdown",
   "metadata": {},
   "source": [
    "### Pie chart of top 5 categories"
   ]
  },
  {
   "cell_type": "code",
   "execution_count": 56,
   "metadata": {},
   "outputs": [
    {
     "data": {
      "text/plain": [
       "{'Animals': 1738,\n",
       " 'Science': 1646,\n",
       " 'Healthy Eating': 1572,\n",
       " 'Technology': 1557,\n",
       " 'Food': 1556}"
      ]
     },
     "execution_count": 56,
     "metadata": {},
     "output_type": "execute_result"
    }
   ],
   "source": [
    "top_5 = {list(category_counts.keys())[i]: list(category_counts.values())[i] for i in range(len(category_counts) - 1, 10,-1)}\n",
    "top_5"
   ]
  },
  {
   "cell_type": "code",
   "execution_count": 57,
   "metadata": {},
   "outputs": [
    {
     "data": {
      "image/png": "[encoded data removed]",
      "text/plain": [
       "<Figure size 432x288 with 1 Axes>"
      ]
     },
     "metadata": {},
     "output_type": "display_data"
    }
   ],
   "source": [
    "colors = plt.get_cmap('Greens')(np.linspace(0.7, 0.3, len(top_5.keys())))\n",
    "explode = [0.1, 0, 0, 0, 0]\n",
    "\n",
    "plt.pie(top_5.values(), colors = colors, labels = top_5.keys(), wedgeprops={\"linewidth\": 1, \"edgecolor\": \"white\"}, explode = explode, autopct='%0.1f%%', labeldistance = 1.15)\n",
    "plt.title('Popularity distribution of the top 5 categories')\n",
    "plt.show()\n"
   ]
  },
  {
   "cell_type": "markdown",
   "metadata": {},
   "source": [
    "### Finding number of posts per month"
   ]
  },
  {
   "cell_type": "code",
   "execution_count": 58,
   "metadata": {},
   "outputs": [
    {
     "data": {
      "text/plain": [
       "{'Jun 2020': 808,\n",
       " 'Jul 2020': 1884,\n",
       " 'Aug 2020': 1945,\n",
       " 'Sep 2020': 1862,\n",
       " 'Oct 2020': 1889,\n",
       " 'Nov 2020': 1866,\n",
       " 'Dec 2020': 1941,\n",
       " 'Jan 2021': 1949,\n",
       " 'Feb 2021': 1750,\n",
       " 'Mar 2021': 1857,\n",
       " 'Apr 2021': 1801,\n",
       " 'May 2021': 1954,\n",
       " 'Jun 2021': 1028}"
      ]
     },
     "execution_count": 58,
     "metadata": {},
     "output_type": "execute_result"
    }
   ],
   "source": [
    "monthly_posts = data.groupby(data.Datetime.dt.to_period('M'))['Score'].count()\n",
    "monthly_posts = {monthly_posts.keys()[i].to_timestamp().strftime('%b %Y'): monthly_posts.get(i) for i in range(0, monthly_posts.size)} \n",
    "\n",
    "monthly_posts"
   ]
  },
  {
   "cell_type": "code",
   "execution_count": 59,
   "metadata": {},
   "outputs": [
    {
     "data": {
      "image/png": "[encoded data removed]",
      "text/plain": [
       "<Figure size 432x288 with 1 Axes>"
      ]
     },
     "metadata": {
      "needs_background": "light"
     },
     "output_type": "display_data"
    }
   ],
   "source": [
    "plt.bar(monthly_posts.keys(), monthly_posts.values())\n",
    "plt.title('Number of Posts per Month for One Year')\n",
    "plt.ylabel('Number of Posts')\n",
    "plt.xticks(rotation='45')\n",
    "\n",
    "plt.show()"
   ]
  },
  {
   "cell_type": "markdown",
   "metadata": {},
   "source": [
    "### Sentiment breakdown by top categories"
   ]
  },
  {
   "cell_type": "code",
   "execution_count": 71,
   "metadata": {},
   "outputs": [
    {
     "data": {
      "text/html": [
       "<div>\n",
       "<style scoped>\n",
       "    .dataframe tbody tr th:only-of-type {\n",
       "        vertical-align: middle;\n",
       "    }\n",
       "\n",
       "    .dataframe tbody tr th {\n",
       "        vertical-align: top;\n",
       "    }\n",
       "\n",
       "    .dataframe thead th {\n",
       "        text-align: right;\n",
       "    }\n",
       "</style>\n",
       "<table border=\"1\" class=\"dataframe\">\n",
       "  <thead>\n",
       "    <tr style=\"text-align: right;\">\n",
       "      <th></th>\n",
       "      <th>Content ID</th>\n",
       "      <th>Reaction Type</th>\n",
       "      <th>Datetime</th>\n",
       "      <th>User ID</th>\n",
       "      <th>Content Type</th>\n",
       "      <th>Category</th>\n",
       "      <th>Sentiment</th>\n",
       "      <th>Score</th>\n",
       "    </tr>\n",
       "  </thead>\n",
       "  <tbody>\n",
       "    <tr>\n",
       "      <th>834</th>\n",
       "      <td>07f88a73-aef2-45fd-8b5d-418e448b853d</td>\n",
       "      <td>cherish</td>\n",
       "      <td>2021-03-12 16:22:28</td>\n",
       "      <td>7d8c8c77-77a8-4743-b35f-349c0ac07866</td>\n",
       "      <td>GIF</td>\n",
       "      <td>Animals</td>\n",
       "      <td>positive</td>\n",
       "      <td>70</td>\n",
       "    </tr>\n",
       "    <tr>\n",
       "      <th>835</th>\n",
       "      <td>07f88a73-aef2-45fd-8b5d-418e448b853d</td>\n",
       "      <td>intrigued</td>\n",
       "      <td>2020-10-17 10:20:24</td>\n",
       "      <td>6e9c7f30-264a-4aa0-b3ac-36e852d10906</td>\n",
       "      <td>GIF</td>\n",
       "      <td>Animals</td>\n",
       "      <td>positive</td>\n",
       "      <td>45</td>\n",
       "    </tr>\n",
       "    <tr>\n",
       "      <th>836</th>\n",
       "      <td>07f88a73-aef2-45fd-8b5d-418e448b853d</td>\n",
       "      <td>like</td>\n",
       "      <td>2020-12-19 16:42:35</td>\n",
       "      <td>2941011b-f214-4430-8a14-e791ed0805bb</td>\n",
       "      <td>GIF</td>\n",
       "      <td>Animals</td>\n",
       "      <td>positive</td>\n",
       "      <td>50</td>\n",
       "    </tr>\n",
       "    <tr>\n",
       "      <th>837</th>\n",
       "      <td>07f88a73-aef2-45fd-8b5d-418e448b853d</td>\n",
       "      <td>love</td>\n",
       "      <td>2021-05-31 05:46:59</td>\n",
       "      <td>d1a89d23-7d17-4949-9e1a-637317141f3d</td>\n",
       "      <td>GIF</td>\n",
       "      <td>Animals</td>\n",
       "      <td>positive</td>\n",
       "      <td>65</td>\n",
       "    </tr>\n",
       "    <tr>\n",
       "      <th>838</th>\n",
       "      <td>07f88a73-aef2-45fd-8b5d-418e448b853d</td>\n",
       "      <td>hate</td>\n",
       "      <td>2020-12-27 03:37:01</td>\n",
       "      <td>8665a934-dc22-482b-9289-2e2c9d6a4095</td>\n",
       "      <td>GIF</td>\n",
       "      <td>Animals</td>\n",
       "      <td>negative</td>\n",
       "      <td>5</td>\n",
       "    </tr>\n",
       "    <tr>\n",
       "      <th>...</th>\n",
       "      <td>...</td>\n",
       "      <td>...</td>\n",
       "      <td>...</td>\n",
       "      <td>...</td>\n",
       "      <td>...</td>\n",
       "      <td>...</td>\n",
       "      <td>...</td>\n",
       "      <td>...</td>\n",
       "    </tr>\n",
       "    <tr>\n",
       "      <th>22347</th>\n",
       "      <td>89cb4504-fccd-40f4-945e-410f74ee4735</td>\n",
       "      <td>scared</td>\n",
       "      <td>2021-04-05 00:52:42</td>\n",
       "      <td>b827588c-31b2-47f3-916a-a1dbf7987f50</td>\n",
       "      <td>photo</td>\n",
       "      <td>Animals</td>\n",
       "      <td>negative</td>\n",
       "      <td>15</td>\n",
       "    </tr>\n",
       "    <tr>\n",
       "      <th>22348</th>\n",
       "      <td>89cb4504-fccd-40f4-945e-410f74ee4735</td>\n",
       "      <td>super love</td>\n",
       "      <td>2020-10-30 16:30:15</td>\n",
       "      <td>6ecb39b1-8f85-44f1-b2f3-0cffcba4d731</td>\n",
       "      <td>photo</td>\n",
       "      <td>Animals</td>\n",
       "      <td>positive</td>\n",
       "      <td>75</td>\n",
       "    </tr>\n",
       "    <tr>\n",
       "      <th>22349</th>\n",
       "      <td>89cb4504-fccd-40f4-945e-410f74ee4735</td>\n",
       "      <td>hate</td>\n",
       "      <td>2021-04-01 18:09:07</td>\n",
       "      <td>07f4dcd0-2bf3-4f21-9da3-b054b511ae00</td>\n",
       "      <td>photo</td>\n",
       "      <td>Animals</td>\n",
       "      <td>negative</td>\n",
       "      <td>5</td>\n",
       "    </tr>\n",
       "    <tr>\n",
       "      <th>22350</th>\n",
       "      <td>89cb4504-fccd-40f4-945e-410f74ee4735</td>\n",
       "      <td>love</td>\n",
       "      <td>2020-08-16 03:02:19</td>\n",
       "      <td>9dcb5fd8-9e7f-40d3-bd1d-edf33ecf6388</td>\n",
       "      <td>photo</td>\n",
       "      <td>Animals</td>\n",
       "      <td>positive</td>\n",
       "      <td>65</td>\n",
       "    </tr>\n",
       "    <tr>\n",
       "      <th>22351</th>\n",
       "      <td>89cb4504-fccd-40f4-945e-410f74ee4735</td>\n",
       "      <td>disgust</td>\n",
       "      <td>2021-01-13 06:18:26</td>\n",
       "      <td>0a1cde57-79ab-4c61-b664-1d3b290b43cf</td>\n",
       "      <td>photo</td>\n",
       "      <td>Animals</td>\n",
       "      <td>negative</td>\n",
       "      <td>0</td>\n",
       "    </tr>\n",
       "  </tbody>\n",
       "</table>\n",
       "<p>1738 rows × 8 columns</p>\n",
       "</div>"
      ],
      "text/plain": [
       "                                 Content ID Reaction Type            Datetime  \\\n",
       "834    07f88a73-aef2-45fd-8b5d-418e448b853d       cherish 2021-03-12 16:22:28   \n",
       "835    07f88a73-aef2-45fd-8b5d-418e448b853d     intrigued 2020-10-17 10:20:24   \n",
       "836    07f88a73-aef2-45fd-8b5d-418e448b853d          like 2020-12-19 16:42:35   \n",
       "837    07f88a73-aef2-45fd-8b5d-418e448b853d          love 2021-05-31 05:46:59   \n",
       "838    07f88a73-aef2-45fd-8b5d-418e448b853d          hate 2020-12-27 03:37:01   \n",
       "...                                     ...           ...                 ...   \n",
       "22347  89cb4504-fccd-40f4-945e-410f74ee4735        scared 2021-04-05 00:52:42   \n",
       "22348  89cb4504-fccd-40f4-945e-410f74ee4735    super love 2020-10-30 16:30:15   \n",
       "22349  89cb4504-fccd-40f4-945e-410f74ee4735          hate 2021-04-01 18:09:07   \n",
       "22350  89cb4504-fccd-40f4-945e-410f74ee4735          love 2020-08-16 03:02:19   \n",
       "22351  89cb4504-fccd-40f4-945e-410f74ee4735       disgust 2021-01-13 06:18:26   \n",
       "\n",
       "                                    User ID Content Type Category Sentiment  \\\n",
       "834    7d8c8c77-77a8-4743-b35f-349c0ac07866          GIF  Animals  positive   \n",
       "835    6e9c7f30-264a-4aa0-b3ac-36e852d10906          GIF  Animals  positive   \n",
       "836    2941011b-f214-4430-8a14-e791ed0805bb          GIF  Animals  positive   \n",
       "837    d1a89d23-7d17-4949-9e1a-637317141f3d          GIF  Animals  positive   \n",
       "838    8665a934-dc22-482b-9289-2e2c9d6a4095          GIF  Animals  negative   \n",
       "...                                     ...          ...      ...       ...   \n",
       "22347  b827588c-31b2-47f3-916a-a1dbf7987f50        photo  Animals  negative   \n",
       "22348  6ecb39b1-8f85-44f1-b2f3-0cffcba4d731        photo  Animals  positive   \n",
       "22349  07f4dcd0-2bf3-4f21-9da3-b054b511ae00        photo  Animals  negative   \n",
       "22350  9dcb5fd8-9e7f-40d3-bd1d-edf33ecf6388        photo  Animals  positive   \n",
       "22351  0a1cde57-79ab-4c61-b664-1d3b290b43cf        photo  Animals  negative   \n",
       "\n",
       "       Score  \n",
       "834       70  \n",
       "835       45  \n",
       "836       50  \n",
       "837       65  \n",
       "838        5  \n",
       "...      ...  \n",
       "22347     15  \n",
       "22348     75  \n",
       "22349      5  \n",
       "22350     65  \n",
       "22351      0  \n",
       "\n",
       "[1738 rows x 8 columns]"
      ]
     },
     "execution_count": 71,
     "metadata": {},
     "output_type": "execute_result"
    }
   ],
   "source": [
    "animal_posts = data[data['Category'] == 'Animals']\n",
    "science_posts = data[data['Category'] == 'Science']\n",
    "\n",
    "labels = ['Positive', 'Negative', 'Neutral']\n",
    "\n",
    "animal_posts"
   ]
  },
  {
   "cell_type": "code",
   "execution_count": 69,
   "metadata": {},
   "outputs": [
    {
     "data": {
      "image/png": "[encoded data removed]",
      "text/plain": [
       "<Figure size 432x288 with 1 Axes>"
      ]
     },
     "metadata": {},
     "output_type": "display_data"
    }
   ],
   "source": [
    "plt.pie(animal_posts['Sentiment'].value_counts(), labels = labels, autopct='%0.1f%%')\n",
    "plt.show()"
   ]
  },
  {
   "cell_type": "code",
   "execution_count": 72,
   "metadata": {},
   "outputs": [
    {
     "data": {
      "image/png": "[encoded data removed]",
      "text/plain": [
       "<Figure size 432x288 with 1 Axes>"
      ]
     },
     "metadata": {},
     "output_type": "display_data"
    }
   ],
   "source": [
    "plt.pie(science_posts['Sentiment'].value_counts(), labels = labels, autopct='%0.1f%%')\n",
    "plt.show()"
   ]
  }
 ],
 "metadata": {
  "kernelspec": {
   "display_name": "Python 3.9.13 ('base')",
   "language": "python",
   "name": "python3"
  },
  "language_info": {
   "codemirror_mode": {
    "name": "ipython",
    "version": 3
   },
   "file_extension": ".py",
   "mimetype": "text/x-python",
   "name": "python",
   "nbconvert_exporter": "python",
   "pygments_lexer": "ipython3",
   "version": "3.9.13"
  },
  "orig_nbformat": 4,
  "vscode": {
   "interpreter": {
    "hash": "c11202d2846b22eec7deaf37ea813ba92a5f75b5344a4d16688175855af7948e"
   }
  }
 },
 "nbformat": 4,
 "nbformat_minor": 2
}
